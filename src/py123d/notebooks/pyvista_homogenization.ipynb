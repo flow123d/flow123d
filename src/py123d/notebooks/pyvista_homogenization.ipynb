{
 "cells": [
  {
   "cell_type": "code",
   "execution_count": 36,
   "id": "5e799658-4e1a-4d86-bc54-3b7708126b7c",
   "metadata": {},
   "outputs": [
    {
     "name": "stdout",
     "output_type": "stream",
     "text": [
      "<class 'numpy.ndarray'>\n",
      "[0.1 0.1 0.1 0.1]\n"
     ]
    },
    {
     "data": {
      "application/vnd.jupyter.widget-view+json": {
       "model_id": "d26c26b84d384bd4aff0737b93c552a2",
       "version_major": 2,
       "version_minor": 0
      },
      "text/plain": [
       "Widget(value=\"<iframe src='http://localhost:43035/index.html?ui=P_0x7f6d7143e380_31&reconnect=auto' style='wid…"
      ]
     },
     "metadata": {},
     "output_type": "display_data"
    },
    {
     "name": "stdout",
     "output_type": "stream",
     "text": [
      " JS Error => error: TypeError: n is null\n",
      " JS Error => error: TypeError: n is null\n"
     ]
    }
   ],
   "source": [
    "import pyvista as pv\n",
    "import numpy as np\n",
    "pv.set_jupyter_backend('client')\n",
    "\n",
    "# 1. Create PolyData object with scalar cell data\n",
    "# Create points and define a single triangle\n",
    "#points = 0.5 * np.array([[0, 0, 0], [1, 0, 0], [0, 1, 1], [1, 1, 1]]) #+ np.array([0.25, 0.25,0.25])\n",
    "points = np.array([[0, 0, 0], [1, 0, 0], [0, 1, 1], [1, 1, 1]]) #+ np.array([0.25, 0.25,0.25])\n",
    "faces = np.array([3, 0, 1, 2, 3, 1, 2, 3])\n",
    "# Create a PyVista PolyData object\n",
    "polydata = pv.PolyData(points, faces)\n",
    "\n",
    "# Add const point data\n",
    "#point_data = np.full(polydata.n_points, 100, dtype=np.float32)\n",
    "point_data = np.random.rand(polydata.n_points)\n",
    "point_data *= 0.0\n",
    "point_data += 0.1\n",
    "print(type(point_data))\n",
    "#point_data = np.zeros(polydata.n_points, dtype=np.float32)\n",
    "print(point_data)\n",
    "polydata.point_data[\"sample_point_data\"] = point_data\n",
    "\n",
    "#print(list(polydata.cell_data.keys()))\n",
    "\n",
    "# 2. Create RectilinearGrid\n",
    "nx, ny, nz = 20, 20, 20\n",
    "x = np.linspace(0, 1, nx)\n",
    "y = np.linspace(0, 1, ny)\n",
    "z = np.linspace(0, 1, nz) \n",
    "rectilinear_grid = pv.RectilinearGrid(x, y, z)\n",
    "\n",
    "# Visualize before resampling\n",
    "p = pv.Plotter(shape=(1, 2), window_size=[800, 400])\n",
    "# Subplot 0: Original PolyData\n",
    "p.subplot(0, 0)\n",
    "p.add_mesh(polydata, scalars=point_data, show_edges=True, label=\"Original PolyData\")\n",
    "#p.add_text(\"Original PolyData\")\n",
    "# Subplot 1: RectilinearGrid\n",
    "p.subplot(0, 1)\n",
    "p.add_mesh(rectilinear_grid, show_edges=True)\n",
    "p.add_text(\"RectilinearGrid\")\n",
    "p.link_views()\n",
    "p.show()\n",
    "\n"
   ]
  },
  {
   "cell_type": "code",
   "execution_count": 1,
   "id": "92ce897c-fa57-4561-aa00-6e7f432815d7",
   "metadata": {},
   "outputs": [
    {
     "ename": "NameError",
     "evalue": "name 'rectilinear_grid' is not defined",
     "output_type": "error",
     "traceback": [
      "\u001b[0;31m---------------------------------------------------------------------------\u001b[0m",
      "\u001b[0;31mNameError\u001b[0m                                 Traceback (most recent call last)",
      "Cell \u001b[0;32mIn[1], line 2\u001b[0m\n\u001b[1;32m      1\u001b[0m \u001b[38;5;66;03m# 3. Interpolate data from PolyData to RectilinearGrid\u001b[39;00m\n\u001b[0;32m----> 2\u001b[0m interpolated_grid \u001b[38;5;241m=\u001b[39m \u001b[43mrectilinear_grid\u001b[49m\u001b[38;5;241m.\u001b[39minterpolate(polydata, radius\u001b[38;5;241m=\u001b[39m\u001b[38;5;241m0.1\u001b[39m)\n\u001b[1;32m      4\u001b[0m \u001b[38;5;66;03m# Extract and print the interpolated data\u001b[39;00m\n\u001b[1;32m      5\u001b[0m \u001b[38;5;66;03m#print(list(interpolated_grid.point_data.keys()))\u001b[39;00m\n\u001b[1;32m      6\u001b[0m interpolated_data \u001b[38;5;241m=\u001b[39m interpolated_grid\u001b[38;5;241m.\u001b[39mpoint_data[\u001b[38;5;124m\"\u001b[39m\u001b[38;5;124msample_point_data\u001b[39m\u001b[38;5;124m\"\u001b[39m]\n",
      "\u001b[0;31mNameError\u001b[0m: name 'rectilinear_grid' is not defined"
     ]
    }
   ],
   "source": [
    "# 3. Interpolate data from PolyData to RectilinearGrid\n",
    "interpolated_grid = rectilinear_grid.interpolate(polydata, radius=0.1)\n",
    "\n",
    "# Extract and print the interpolated data\n",
    "#print(list(interpolated_grid.point_data.keys()))\n",
    "interpolated_data = interpolated_grid.point_data[\"sample_point_data\"]\n",
    "\n",
    "#print(\"Interpolated Data:\", interpolated_data)\n",
    "\n",
    "# Visualize\n",
    "p = pv.Plotter()\n",
    "p.add_mesh(polydata, scalars=cell_data, show_edges=True, label=\"Original PolyData\")\n",
    "p.add_mesh(interpolated_grid, scalars=interpolated_data, show_edges=True, label=\"Interpolated RectilinearGrid\", opacity=0.5)\n",
    "p.show()"
   ]
  }
 ],
 "metadata": {
  "kernelspec": {
   "display_name": "jupy-env",
   "language": "python",
   "name": "jupy-env"
  },
  "language_info": {
   "codemirror_mode": {
    "name": "ipython",
    "version": 3
   },
   "file_extension": ".py",
   "mimetype": "text/x-python",
   "name": "python",
   "nbconvert_exporter": "python",
   "pygments_lexer": "ipython3",
   "version": "3.10.12"
  }
 },
 "nbformat": 4,
 "nbformat_minor": 5
}
