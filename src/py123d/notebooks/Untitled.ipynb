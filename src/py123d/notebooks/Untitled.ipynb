{
 "cells": [
  {
   "cell_type": "code",
   "execution_count": 2,
   "id": "fc97f204-6ed1-4ccf-8414-51d05507c836",
   "metadata": {
    "execution": {
     "iopub.execute_input": "2024-09-23T13:00:17.854180Z",
     "iopub.status.busy": "2024-09-23T13:00:17.853451Z",
     "iopub.status.idle": "2024-09-23T13:00:17.863548Z",
     "shell.execute_reply": "2024-09-23T13:00:17.862141Z",
     "shell.execute_reply.started": "2024-09-23T13:00:17.854119Z"
    }
   },
   "outputs": [
    {
     "data": {
      "text/plain": [
       "'/home/jb/workspace/flow123d/src/python/notebooks'"
      ]
     },
     "execution_count": 2,
     "metadata": {},
     "output_type": "execute_result"
    }
   ],
   "source": [
    "import os\n",
    "os.getcwd()"
   ]
  },
  {
   "cell_type": "code",
   "execution_count": 6,
   "id": "fbebf2ce-c00e-4f71-888c-2cef5cb09b86",
   "metadata": {
    "execution": {
     "iopub.execute_input": "2024-09-23T13:03:27.012071Z",
     "iopub.status.busy": "2024-09-23T13:03:27.011549Z",
     "iopub.status.idle": "2024-09-23T13:03:27.026433Z",
     "shell.execute_reply": "2024-09-23T13:03:27.025749Z",
     "shell.execute_reply.started": "2024-09-23T13:03:27.012027Z"
    }
   },
   "outputs": [
    {
     "name": "stdout",
     "output_type": "stream",
     "text": [
      "total 2736\n",
      "-rw-rw-r-- 1 jb jb 2033782 Jun  4 11:41 24_06_04_dg_asm.zip\n",
      "-rw-rw-r-- 1 jb jb   66718 Jul 11  2023 ACFrOgA0SvT7nDcwsWF8Qw2oh6am6nCtX_4L81Rh-BR8Cdn8PFXRaHqhy4sH4UOFc7LxVLwLImKwuVGFTY-Qm5M2oAATLFrSABmFGP2vymUQXw8LfoEwhni-0yBA70U=.pdf\n",
      "-rw-rw-r-- 1 jb jb   10309 May 23 11:47 dg_asm_bench_postprocess.py\n",
      "-rw-rw-r-- 1 jb jb  535993 May 23 11:48 dg_asm_plots.ipynb\n",
      "-rw-rw-r-- 1 jb jb  104621 Jun 14  2023 F.pdf\n",
      "-rw-rw-r-- 1 jb jb    5362 May 23 11:48 pyvista_homogenization.ipynb\n",
      "-rw-rw-r-- 1 jb jb      61 May 23 11:48 requirements.txt\n",
      "-rw-rw-r-- 1 jb jb   21697 May 23 11:47 Symbolic small matrix inversion.ipynb\n",
      "-rw-rw-r-- 1 jb jb    2351 Sep 23 15:02 Untitled.ipynb\n"
     ]
    }
   ],
   "source": [
    "%%bash\n",
    "ls -l"
   ]
  },
  {
   "cell_type": "markdown",
   "id": "eb2cc4c2-137c-43d8-a106-51d5a616e869",
   "metadata": {
    "execution": {
     "iopub.execute_input": "2024-09-23T13:03:44.478463Z",
     "iopub.status.busy": "2024-09-23T13:03:44.478005Z",
     "iopub.status.idle": "2024-09-23T13:03:44.484524Z",
     "shell.execute_reply": "2024-09-23T13:03:44.483473Z",
     "shell.execute_reply.started": "2024-09-23T13:03:44.478426Z"
    }
   },
   "source": [
    "[test pdf](F.pdf)"
   ]
  }
 ],
 "metadata": {
  "kernelspec": {
   "display_name": "Python 3 (ipykernel)",
   "language": "python",
   "name": "python3"
  },
  "language_info": {
   "codemirror_mode": {
    "name": "ipython",
    "version": 3
   },
   "file_extension": ".py",
   "mimetype": "text/x-python",
   "name": "python",
   "nbconvert_exporter": "python",
   "pygments_lexer": "ipython3",
   "version": "3.10.12"
  }
 },
 "nbformat": 4,
 "nbformat_minor": 5
}
